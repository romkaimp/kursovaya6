{
 "cells": [
  {
   "cell_type": "code",
   "id": "initial_id",
   "metadata": {
    "collapsed": true,
    "ExecuteTime": {
     "end_time": "2025-02-25T07:16:27.094598Z",
     "start_time": "2025-02-25T07:16:26.694590Z"
    }
   },
   "source": [
    "import numpy as np\n",
    "import math\n",
    "import random\n",
    "import matplotlib.pyplot as plt"
   ],
   "outputs": [],
   "execution_count": 2
  },
  {
   "metadata": {
    "ExecuteTime": {
     "end_time": "2025-02-25T07:16:27.104404Z",
     "start_time": "2025-02-25T07:16:27.099609Z"
    }
   },
   "cell_type": "code",
   "source": [
    "n, l, m = (10 - 1) * 2 + 2, 5 + (10 - 1) + (10)*2, 10 # количество видов узлов и возможных взаимодействий между ними\n",
    "alpha = np.array([10, 10])\n",
    "lichers = np.array([i for i in range(m - 1)])\n",
    "lichers_ = np.append(\n",
    "    (\n",
    "            np.cumsum(\n",
    "                np.append(lichers, alpha[1]\n",
    "                          )[::-1]\n",
    "            )[::-1]\n",
    "    )[:-1]\n",
    "    , alpha[1]\n",
    ") # новые клиенты, сиды, личеры имеющие i=1,..,m-1 частей файла, личеры, интересующиеся i=1,...,m-1,m частями файла\n",
    "# пример личеров: lichers = [0 1 2 3 4 5 6 7 8]; lichers_ = [46 46 45 43 40 36 31 25 18 10];\n",
    "# lichers_[-1] = alpha[1] - сиды, lichers_[0] = sum(lichers) + alpha[1] - сумма личеров, интересующих новых клиентов.\n",
    "# lichers_[1] - сумма личеров, интересующих первого личера (lichers[0]) и т.д.\n",
    "lmb = 2\n",
    "beta = 0.2\n",
    "delta = sum(lichers_) * 4\n",
    "mu = 2\n",
    "phi = ([lmb, beta * lichers_[0] * alpha[0]] +\n",
    "       [lichers_[i] * lichers[i - 1] / delta for i in range(1, m)] +\n",
    "       [mu])\n",
    "\n",
    "eps = np.array([[0, 0] + [0 for i in range(m - 1)] + [0 for i in range(m)]] +\n",
    "                [[1, 0] + [0 for i in range(m - 1)] + [1 if i == 0 else 0 for i in range(m)]] +\n",
    "                [[0, 0] + [1 if i == j else 0 for i in range(m - 1)] + [1 if i == j else 0 for i in range(m)] for j in range(m - 1)] +\n",
    "                [[0, 1] + [0 for i in range(m - 1)] + [0 for i in range(m - 1)]])\n",
    "\n",
    "p_gamma = np.array([[1, 0]+ [0 for i in range(m - 1)] + [0 for i in range(m)]] +\n",
    "                   [[]] +\n",
    "                   [[]] +\n",
    "                   [[]])"
   ],
   "id": "50625844898cc650",
   "outputs": [],
   "execution_count": 3
  },
  {
   "metadata": {
    "ExecuteTime": {
     "end_time": "2025-02-25T08:09:44.959374Z",
     "start_time": "2025-02-25T08:09:44.955361Z"
    }
   },
   "cell_type": "code",
   "source": [
    "n, l, m = m + 1, m + 2, 10 # количество видов узлов и возможных взаимодействий между ними\n",
    "\n",
    "lichers = np.array([m if i == 0 or i == m else i for i in range(m + 1)])\n",
    "lichers_ = np.append(np.cumsum(lichers[::-1]\n",
    "            )[:-1:][::-1], 0)\n",
    "# новые клиенты, сиды, личеры имеющие i=1,..,m-1 частей файла, личеры, интересующиеся i=1,...,m-1,m частями файла\n",
    "# пример личеров: lichers = [0 1 2 3 4 5 6 7 8]; lichers_ = [46 46 45 43 40 36 31 25 18 10];\n",
    "# lichers_[-1] = alpha[1] - сиды, lichers_[0] = sum(lichers) + alpha[1] - сумма личеров, интересующих новых клиентов.\n",
    "# lichers_[1] - сумма личеров, интересующих первого личера (lichers[0]) и т.д.\n",
    "lmb = 2\n",
    "delta = sum(lichers_)\n",
    "mu = 2\n",
    "phi = ([lmb] +\n",
    "       [lichers_[i] * lichers[i] / delta for i in range(m)] +\n",
    "       [mu])\n",
    "\n",
    "eps = np.array([[0 for i in range(m + 1)] + [0 for i in range(m + 1)]] +\n",
    "               [[1 if i == j else 0 for i in range(m + 1)] + [1 if i == j else 0 for i in range(m + 1)] for j in range(m)] +\n",
    "               [[1 if i == m else 0 for i in range(m + 1)] + [0 for i in range(m + 1)]])\n",
    "\n",
    "p_gamma = np.array([[1 if i == 0 else 0 for i in range(m + 1)] + [0 for i in range(m + 1)]] +\n",
    "                   [[1 if i == j + 1 else 0 for i in range(m + 1)] + [1 if i <= j else 0 for i in range(m + 1)] for j in range(m)] +\n",
    "                   [[0 for i in range(m + 1)] + [0 for i in range(m + 1)]])"
   ],
   "id": "8dbe53506f4326c8",
   "outputs": [],
   "execution_count": 52
  },
  {
   "metadata": {
    "ExecuteTime": {
     "end_time": "2025-02-25T08:09:49.710957Z",
     "start_time": "2025-02-25T08:09:49.705940Z"
    }
   },
   "cell_type": "code",
   "source": [
    "def inverse_exp(random_, coef):\n",
    "    '''возвращает значение случайной величины,\n",
    "    распределённой по экспоненциальному закону,\n",
    "    соответствующему простейшему Пуассоновскому потоку'''\n",
    "    if coef == 0:\n",
    "        return np.finfo(np.float32).max\n",
    "    return -1/coef * math.log(1 - random_)\n",
    "\n",
    "tau = np.array([0 for _ in range(l)], dtype=np.float32) # время следующего события i\n",
    "for i in range(l):\n",
    "    tau[i] = inverse_exp(random.random(), phi[i])\n",
    "\n",
    "def update_tau(tau, ):\n",
    "    ''' Возвращает матрицу с временами событий на следующем шаге и ближайшее событие\n",
    "    :param tau: array of trigger times, generated on the previous step\n",
    "    :return: times array on the next step, next event, time of next event'''\n",
    "    min_ = np.finfo(np.float32).max\n",
    "    idx_min = 0\n",
    "\n",
    "    for k in range(len(tau)):\n",
    "        if tau[k] == np.finfo(np.float32).max and phi[k] != 0:\n",
    "            tau[k] = inverse_exp(random.random(), phi[k])\n",
    "        if tau[k] < min_:\n",
    "            min_ = tau[k]\n",
    "            idx_min = k\n",
    "    tau -= min_\n",
    "    return tau, idx_min, min_"
   ],
   "id": "17ab7db43e9c0fda",
   "outputs": [],
   "execution_count": 54
  },
  {
   "metadata": {
    "ExecuteTime": {
     "end_time": "2025-02-25T08:09:51.398559Z",
     "start_time": "2025-02-25T08:09:51.394501Z"
    }
   },
   "cell_type": "code",
   "source": [
    "print(tau)\n",
    "print(eps)\n",
    "print(p_gamma)"
   ],
   "id": "cda6e1970882a977",
   "outputs": [
    {
     "name": "stdout",
     "output_type": "stream",
     "text": [
      "[1.0338802e+00 2.1941154e-03 2.6015096e+00 9.0951729e+00 3.0597312e+00\n",
      " 3.1093365e-01 2.1724936e-01 7.4188375e-01 7.6993096e-01 1.4202839e-01\n",
      " 1.7948222e+00 9.4992393e-01]\n",
      "[[0 0 0 0 0 0 0 0 0 0 0 0 0 0 0 0 0 0 0 0 0 0]\n",
      " [1 0 0 0 0 0 0 0 0 0 0 1 0 0 0 0 0 0 0 0 0 0]\n",
      " [0 1 0 0 0 0 0 0 0 0 0 0 1 0 0 0 0 0 0 0 0 0]\n",
      " [0 0 1 0 0 0 0 0 0 0 0 0 0 1 0 0 0 0 0 0 0 0]\n",
      " [0 0 0 1 0 0 0 0 0 0 0 0 0 0 1 0 0 0 0 0 0 0]\n",
      " [0 0 0 0 1 0 0 0 0 0 0 0 0 0 0 1 0 0 0 0 0 0]\n",
      " [0 0 0 0 0 1 0 0 0 0 0 0 0 0 0 0 1 0 0 0 0 0]\n",
      " [0 0 0 0 0 0 1 0 0 0 0 0 0 0 0 0 0 1 0 0 0 0]\n",
      " [0 0 0 0 0 0 0 1 0 0 0 0 0 0 0 0 0 0 1 0 0 0]\n",
      " [0 0 0 0 0 0 0 0 1 0 0 0 0 0 0 0 0 0 0 1 0 0]\n",
      " [0 0 0 0 0 0 0 0 0 1 0 0 0 0 0 0 0 0 0 0 1 0]\n",
      " [0 0 0 0 0 0 0 0 0 0 1 0 0 0 0 0 0 0 0 0 0 0]]\n",
      "[[1 0 0 0 0 0 0 0 0 0 0 0 0 0 0 0 0 0 0 0 0 0]\n",
      " [0 1 0 0 0 0 0 0 0 0 0 1 0 0 0 0 0 0 0 0 0 0]\n",
      " [0 0 1 0 0 0 0 0 0 0 0 1 1 0 0 0 0 0 0 0 0 0]\n",
      " [0 0 0 1 0 0 0 0 0 0 0 1 1 1 0 0 0 0 0 0 0 0]\n",
      " [0 0 0 0 1 0 0 0 0 0 0 1 1 1 1 0 0 0 0 0 0 0]\n",
      " [0 0 0 0 0 1 0 0 0 0 0 1 1 1 1 1 0 0 0 0 0 0]\n",
      " [0 0 0 0 0 0 1 0 0 0 0 1 1 1 1 1 1 0 0 0 0 0]\n",
      " [0 0 0 0 0 0 0 1 0 0 0 1 1 1 1 1 1 1 0 0 0 0]\n",
      " [0 0 0 0 0 0 0 0 1 0 0 1 1 1 1 1 1 1 1 0 0 0]\n",
      " [0 0 0 0 0 0 0 0 0 1 0 1 1 1 1 1 1 1 1 1 0 0]\n",
      " [0 0 0 0 0 0 0 0 0 0 1 1 1 1 1 1 1 1 1 1 1 0]\n",
      " [0 0 0 0 0 0 0 0 0 0 0 0 0 0 0 0 0 0 0 0 0 0]]\n"
     ]
    }
   ],
   "execution_count": 55
  }
 ],
 "metadata": {
  "kernelspec": {
   "display_name": "Python 3",
   "language": "python",
   "name": "python3"
  },
  "language_info": {
   "codemirror_mode": {
    "name": "ipython",
    "version": 2
   },
   "file_extension": ".py",
   "mimetype": "text/x-python",
   "name": "python",
   "nbconvert_exporter": "python",
   "pygments_lexer": "ipython2",
   "version": "2.7.6"
  }
 },
 "nbformat": 4,
 "nbformat_minor": 5
}
