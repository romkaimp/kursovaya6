{
 "cells": [
  {
   "cell_type": "code",
   "id": "initial_id",
   "metadata": {
    "collapsed": true,
    "ExecuteTime": {
     "end_time": "2025-02-25T11:13:00.087606Z",
     "start_time": "2025-02-25T11:12:57.660884Z"
    }
   },
   "source": [
    "import numpy as np\n",
    "import math\n",
    "import random\n",
    "import matplotlib.pyplot as plt"
   ],
   "outputs": [],
   "execution_count": 2
  },
  {
   "metadata": {
    "ExecuteTime": {
     "end_time": "2025-02-25T11:13:00.106796Z",
     "start_time": "2025-02-25T11:13:00.095795Z"
    }
   },
   "cell_type": "code",
   "source": [
    "m = 10 # количество частей файла (скачиваются по порядку. У лича >= 1 части, у сида все m частей)\n",
    "n, l = m + 1, m + 2 # количество видов узлов и возможных взаимодействий между ними\n",
    "\n",
    "lichers = np.array([m if i == 0 or i == m else i for i in range(m + 1)]) # количество личей с i частями файла\n",
    "lichers_ = np.append(np.cumsum(lichers[::-1] \n",
    "            )[:-1:][::-1], 0) # количество подходящих для лича узлов для передачи файла (для новых клиентов - все личи + сиды)\n",
    "alpha = np.append(lichers, lichers_)\n",
    "\n",
    "lmb = 2\n",
    "delta = sum(lichers_)\n",
    "mu = 2\n",
    "phi = ([lmb] +\n",
    "       [lichers_[i] * lichers[i] / delta for i in range(m)] +\n",
    "       [mu])\n",
    "\n",
    "eps = np.array([[0 for i in range(m + 1)] + [0 for i in range(m + 1)]] +\n",
    "               [[1 if i == j else 0 for i in range(m + 1)] + [1 if i == j else 0 for i in range(m + 1)] for j in range(m)] +\n",
    "               [[1 if i == m else 0 for i in range(m + 1)] + [0 for i in range(m + 1)]])\n",
    "\n",
    "p_gamma = np.array([[1 if i == 0 else 0 for i in range(m + 1)] + [0 for i in range(m + 1)]] +\n",
    "                   [[1 if i == j + 1 else 0 for i in range(m + 1)] + [1 if i <= j else 0 for i in range(m + 1)] for j in range(m)] +\n",
    "                   [[0 for i in range(m + 1)] + [0 for i in range(m + 1)]])"
   ],
   "id": "8dbe53506f4326c8",
   "outputs": [],
   "execution_count": 3
  },
  {
   "metadata": {
    "ExecuteTime": {
     "end_time": "2025-02-25T11:13:00.153634Z",
     "start_time": "2025-02-25T11:13:00.144204Z"
    }
   },
   "cell_type": "code",
   "source": [
    "def inverse_exp(random_, coef):\n",
    "    '''Возвращает значение случайной величины,\n",
    "    распределённой по экспоненциальному закону,\n",
    "    соответствующему простейшему Пуассоновскому потоку'''\n",
    "    if coef == 0:\n",
    "        return np.finfo(np.float32).max\n",
    "    return -1/coef * math.log(1 - random_)\n",
    "\n",
    "tau = np.array([0 for _ in range(l)], dtype=np.float32) # время следующего события i\n",
    "for i in range(l):\n",
    "    tau[i] = inverse_exp(random.random(), phi[i])\n",
    "\n",
    "def update_tau(tau, ):\n",
    "    ''' Возвращает матрицу с временами событий на следующем шаге и ближайшее событие\n",
    "    :param tau: array of trigger times, generated on the previous step\n",
    "    :return: times array on the next step, next event, time of next event'''\n",
    "    min_ = np.finfo(np.float32).max\n",
    "    idx_min = 0\n",
    "\n",
    "    for k in range(len(tau)):\n",
    "        if tau[k] == np.finfo(np.float32).max and phi[k] != 0:\n",
    "            tau[k] = inverse_exp(random.random(), phi[k])\n",
    "        if tau[k] < min_:\n",
    "            min_ = tau[k]\n",
    "            idx_min = k\n",
    "    tau -= min_\n",
    "    return tau, idx_min, min_\n",
    "\n",
    "def update_lichers_(lichers):\n",
    "    return np.append(np.cumsum(lichers[::-1] \n",
    "            )[:-1:][::-1], 0)\n",
    "\n",
    "def update_phi(alpha):\n",
    "    phi = np.array([lmb] +\n",
    "                   [lichers_[i] * lichers[i] / delta for i in range(m)] +\n",
    "                   [mu])\n",
    "    phi[~np.all(eps <= alpha, axis=1)] = 0\n",
    "    return phi\n",
    "\n",
    "def taking_action(alpha, next_event):\n",
    "    \"\"\"Совершаем следующее предопределённое действие\n",
    "    :param alpha: array of existing particles\n",
    "    :param next_event: next event with prerequisites from eps and consequences determined from p_gamma\n",
    "    :return: next state and new probabilities of events\"\"\"\n",
    "    alpha += -eps[next_event] + p_gamma[next_event]\n",
    "    phi = update_phi(alpha)\n",
    "    return alpha, phi"
   ],
   "id": "17ab7db43e9c0fda",
   "outputs": [],
   "execution_count": 4
  },
  {
   "metadata": {
    "ExecuteTime": {
     "end_time": "2025-02-25T11:13:00.194085Z",
     "start_time": "2025-02-25T11:13:00.186085Z"
    }
   },
   "cell_type": "code",
   "source": [
    "print(tau)\n",
    "print(eps)\n",
    "print(p_gamma)\n",
    "print(alpha)"
   ],
   "id": "cda6e1970882a977",
   "outputs": [
    {
     "name": "stdout",
     "output_type": "stream",
     "text": [
      "[0.4137897  0.38238502 0.38321894 2.3231246  0.08887681 3.1620188\n",
      " 0.09870549 0.32251227 2.7381177  4.1950936  0.249065   0.94329864]\n",
      "[[0 0 0 0 0 0 0 0 0 0 0 0 0 0 0 0 0 0 0 0 0 0]\n",
      " [1 0 0 0 0 0 0 0 0 0 0 1 0 0 0 0 0 0 0 0 0 0]\n",
      " [0 1 0 0 0 0 0 0 0 0 0 0 1 0 0 0 0 0 0 0 0 0]\n",
      " [0 0 1 0 0 0 0 0 0 0 0 0 0 1 0 0 0 0 0 0 0 0]\n",
      " [0 0 0 1 0 0 0 0 0 0 0 0 0 0 1 0 0 0 0 0 0 0]\n",
      " [0 0 0 0 1 0 0 0 0 0 0 0 0 0 0 1 0 0 0 0 0 0]\n",
      " [0 0 0 0 0 1 0 0 0 0 0 0 0 0 0 0 1 0 0 0 0 0]\n",
      " [0 0 0 0 0 0 1 0 0 0 0 0 0 0 0 0 0 1 0 0 0 0]\n",
      " [0 0 0 0 0 0 0 1 0 0 0 0 0 0 0 0 0 0 1 0 0 0]\n",
      " [0 0 0 0 0 0 0 0 1 0 0 0 0 0 0 0 0 0 0 1 0 0]\n",
      " [0 0 0 0 0 0 0 0 0 1 0 0 0 0 0 0 0 0 0 0 1 0]\n",
      " [0 0 0 0 0 0 0 0 0 0 1 0 0 0 0 0 0 0 0 0 0 0]]\n",
      "[[1 0 0 0 0 0 0 0 0 0 0 0 0 0 0 0 0 0 0 0 0 0]\n",
      " [0 1 0 0 0 0 0 0 0 0 0 1 0 0 0 0 0 0 0 0 0 0]\n",
      " [0 0 1 0 0 0 0 0 0 0 0 1 1 0 0 0 0 0 0 0 0 0]\n",
      " [0 0 0 1 0 0 0 0 0 0 0 1 1 1 0 0 0 0 0 0 0 0]\n",
      " [0 0 0 0 1 0 0 0 0 0 0 1 1 1 1 0 0 0 0 0 0 0]\n",
      " [0 0 0 0 0 1 0 0 0 0 0 1 1 1 1 1 0 0 0 0 0 0]\n",
      " [0 0 0 0 0 0 1 0 0 0 0 1 1 1 1 1 1 0 0 0 0 0]\n",
      " [0 0 0 0 0 0 0 1 0 0 0 1 1 1 1 1 1 1 0 0 0 0]\n",
      " [0 0 0 0 0 0 0 0 1 0 0 1 1 1 1 1 1 1 1 0 0 0]\n",
      " [0 0 0 0 0 0 0 0 0 1 0 1 1 1 1 1 1 1 1 1 0 0]\n",
      " [0 0 0 0 0 0 0 0 0 0 1 1 1 1 1 1 1 1 1 1 1 0]\n",
      " [0 0 0 0 0 0 0 0 0 0 0 0 0 0 0 0 0 0 0 0 0 0]]\n",
      "[10  1  2  3  4  5  6  7  8  9 10 55 54 52 49 45 40 34 27 19 10  0]\n"
     ]
    }
   ],
   "execution_count": 5
  }
 ],
 "metadata": {
  "kernelspec": {
   "display_name": "Python 3",
   "language": "python",
   "name": "python3"
  },
  "language_info": {
   "codemirror_mode": {
    "name": "ipython",
    "version": 2
   },
   "file_extension": ".py",
   "mimetype": "text/x-python",
   "name": "python",
   "nbconvert_exporter": "python",
   "pygments_lexer": "ipython2",
   "version": "2.7.6"
  }
 },
 "nbformat": 4,
 "nbformat_minor": 5
}
